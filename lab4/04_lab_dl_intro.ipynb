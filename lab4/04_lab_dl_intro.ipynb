{
  "cells": [
    {
      "cell_type": "markdown",
      "metadata": {
        "id": "view-in-github",
        "colab_type": "text"
      },
      "source": [
        "<a href=\"https://colab.research.google.com/github/newmockingjay/labs_nn_ml/blob/main/lab4/04_lab_dl_intro.ipynb\" target=\"_parent\"><img src=\"https://colab.research.google.com/assets/colab-badge.svg\" alt=\"Open In Colab\"/></a>"
      ]
    },
    {
      "cell_type": "markdown",
      "id": "bc9520d2",
      "metadata": {
        "id": "bc9520d2"
      },
      "source": [
        "# Лабораторная работа №4\n",
        "\n",
        "ФИО: Зайцева Дарья Алексеевна   \n",
        "Группа: БИВТ-21-4\n",
        "\n",
        "Отправлять можно следующими способами:\n",
        "1. Запушить этот ноутбук в GitHub в репозиторий, где у вас лежат ноутбуки с лабами\n",
        "\n",
        "Deadlines:\n",
        "- Занятие №8 в семестре (Занятие №4 очное)\n",
        "\n",
        "Что необходимо сделать:  \n",
        "- Обучить различные модели глубокого обучения на имеющихся данных  \n",
        "\n",
        "---\n",
        "## Читайте задание внимательно\n",
        "\n",
        "Исходные данные:\n",
        "1. В [табличке](https://docs.google.com/spreadsheets/d/11600OkqdRzxc-xZmFTuBs099VeAqU_GlE0Bx6bBlIRE/edit?usp=sharing) необходимо узнать название своего датасета\n",
        "2. Скачать нужны вам данные можно в [Google Drive](https://drive.google.com/drive/folders/1Phm-Fq1GL-VX7NS-DCEMRh_Fo1wU7DQ9?usp=sharing)\n",
        "  \n",
        "---\n",
        "Теперь по пунктам, что я от вас жду:  \n",
        "1. Загрузить необходимые данные к себе и считать (read) их в переменную.\n",
        "2. Понять, у вас задача классификации (бинарной или многоклассовой) или регрессии.\n",
        "3. Сделать предобработку данных:  \n",
        "     1. Разделить выборку на тренировочную (train) и тестовую (test). _Обратите внимание, что обучать скейлеры и определять, какими значениями вы будете заполнять пропуски, вы будете на train выборке, а применять и на train, и на test_.\n",
        "     2. Проверить пропуски в данных. Если они есть, заполнить одной из стратегий, предложенных в ноутбуке для семинара №3. P.S. Для численных и категориальных переменных будут разные стратегии.\n",
        "     3. Отнормировать численные переменные (`StandardScaler`, `MinMaxScaler`).\n",
        "     4. Закодировать категориальные признаки по одной из стратегий.\n",
        "4. Оформить данные в виде класса `Dataset` из библиотеки `torch` (как мы это делали на семинаре), а затем засунуть в `Dataloader` (тоже делали на семинаре).\n",
        "5. Обучить на тренировочном множестве:\n",
        "     1. Очень простую однослойную нейросеть с оптимизатором `SGD` ([link](https://pytorch.org/docs/stable/optim.html)).\n",
        "     2. Нейросеть посложнее (с 1 скрытым слоем) с оптимизатором `Adam` ([link](https://pytorch.org/docs/stable/optim.html)).\n",
        "     3. Нейросеть еще сложнее (с 3+ скрытыми слоями) с оптимизатором `Adam` ([link](https://pytorch.org/docs/stable/optim.html)).\n",
        "6. Посчитайте loss на train и test множествах, в зависимости от эпохи обучения. Провизуализируйте это с помощью библиотеки `matplotlib` (выйдет так называемая **learning curve**, кривая обучения модели).\n",
        "6. Посчитайте метрики на train и test множествах:\n",
        "     1. Для задачи классификации -- Accuracy\n",
        "     2. Для задачи регрессии -- MAE\n",
        "7. Сравните метрики относительно train/test, так и относительно разных моделей. Ответьте на следующие вопросы:\n",
        "     1. Какая модель справилась лучше с поставленной задачей?\n",
        "     2. Имеет ли место переобучение?\n",
        "     3. Имеет ли место недообучение?\n",
        "     4. Как можно улучшить метрики моделей?\n",
        "\n",
        "---\n",
        "P.S.  \n",
        "Просьба -- делать каждое задание в отдельных ячейках и с отдельными заголовками (как пункт 1 и 2 в этом ноутбуке) типа  \n",
        "- Заголовок\n",
        "- Ячейки с кодом\n",
        "- Другой заголовок\n",
        "- Другие ячейки с кодом\n",
        "\n",
        "P.S.S.  \n",
        "Если вам повезло с многоклассовой классификацией, у вас не будет проблем, просто нужно будет поставить необходимое количество нейронов на выходе вашей нейросети."
      ]
    },
    {
      "cell_type": "markdown",
      "id": "28b51062",
      "metadata": {
        "id": "28b51062"
      },
      "source": [
        "## 1. Пример импорта данных."
      ]
    },
    {
      "cell_type": "code",
      "source": [
        "import numpy as np\n",
        "import pandas as pd"
      ],
      "metadata": {
        "id": "2ziQPTqT2zip"
      },
      "execution_count": 27,
      "outputs": [],
      "id": "2ziQPTqT2zip"
    },
    {
      "cell_type": "code",
      "source": [
        "path_to_dataset = './Admission_Predict.csv'"
      ],
      "metadata": {
        "id": "wDTVbDSU20i7"
      },
      "execution_count": 1,
      "outputs": [],
      "id": "wDTVbDSU20i7"
    },
    {
      "cell_type": "code",
      "source": [
        "data = pd.read_csv(path_to_dataset, sep=',')"
      ],
      "metadata": {
        "id": "dzzleRr724Bf"
      },
      "execution_count": 4,
      "outputs": [],
      "id": "dzzleRr724Bf"
    },
    {
      "cell_type": "code",
      "execution_count": 5,
      "metadata": {
        "colab": {
          "base_uri": "https://localhost:8080/",
          "height": 224
        },
        "outputId": "ae11c8f7-1e48-4a38-b22e-b5ae149c2331",
        "id": "iR5siHrXIRjg"
      },
      "outputs": [
        {
          "output_type": "execute_result",
          "data": {
            "text/plain": [
              "   Serial No.  GRE Score  TOEFL Score  University Rating  SOP  LOR   CGPA  \\\n",
              "0           1        337          118                  4  4.5   4.5  9.65   \n",
              "1           2        324          107                  4  4.0   4.5  8.87   \n",
              "2           3        316          104                  3  3.0   3.5  8.00   \n",
              "3           4        322          110                  3  3.5   2.5  8.67   \n",
              "4           5        314          103                  2  2.0   3.0  8.21   \n",
              "\n",
              "   Research  Chance of Admit   \n",
              "0         1              0.92  \n",
              "1         1              0.76  \n",
              "2         1              0.72  \n",
              "3         1              0.80  \n",
              "4         0              0.65  "
            ],
            "text/html": [
              "\n",
              "  <div id=\"df-4230d10f-5601-434c-8d04-bb83b71e2482\" class=\"colab-df-container\">\n",
              "    <div>\n",
              "<style scoped>\n",
              "    .dataframe tbody tr th:only-of-type {\n",
              "        vertical-align: middle;\n",
              "    }\n",
              "\n",
              "    .dataframe tbody tr th {\n",
              "        vertical-align: top;\n",
              "    }\n",
              "\n",
              "    .dataframe thead th {\n",
              "        text-align: right;\n",
              "    }\n",
              "</style>\n",
              "<table border=\"1\" class=\"dataframe\">\n",
              "  <thead>\n",
              "    <tr style=\"text-align: right;\">\n",
              "      <th></th>\n",
              "      <th>Serial No.</th>\n",
              "      <th>GRE Score</th>\n",
              "      <th>TOEFL Score</th>\n",
              "      <th>University Rating</th>\n",
              "      <th>SOP</th>\n",
              "      <th>LOR</th>\n",
              "      <th>CGPA</th>\n",
              "      <th>Research</th>\n",
              "      <th>Chance of Admit</th>\n",
              "    </tr>\n",
              "  </thead>\n",
              "  <tbody>\n",
              "    <tr>\n",
              "      <th>0</th>\n",
              "      <td>1</td>\n",
              "      <td>337</td>\n",
              "      <td>118</td>\n",
              "      <td>4</td>\n",
              "      <td>4.5</td>\n",
              "      <td>4.5</td>\n",
              "      <td>9.65</td>\n",
              "      <td>1</td>\n",
              "      <td>0.92</td>\n",
              "    </tr>\n",
              "    <tr>\n",
              "      <th>1</th>\n",
              "      <td>2</td>\n",
              "      <td>324</td>\n",
              "      <td>107</td>\n",
              "      <td>4</td>\n",
              "      <td>4.0</td>\n",
              "      <td>4.5</td>\n",
              "      <td>8.87</td>\n",
              "      <td>1</td>\n",
              "      <td>0.76</td>\n",
              "    </tr>\n",
              "    <tr>\n",
              "      <th>2</th>\n",
              "      <td>3</td>\n",
              "      <td>316</td>\n",
              "      <td>104</td>\n",
              "      <td>3</td>\n",
              "      <td>3.0</td>\n",
              "      <td>3.5</td>\n",
              "      <td>8.00</td>\n",
              "      <td>1</td>\n",
              "      <td>0.72</td>\n",
              "    </tr>\n",
              "    <tr>\n",
              "      <th>3</th>\n",
              "      <td>4</td>\n",
              "      <td>322</td>\n",
              "      <td>110</td>\n",
              "      <td>3</td>\n",
              "      <td>3.5</td>\n",
              "      <td>2.5</td>\n",
              "      <td>8.67</td>\n",
              "      <td>1</td>\n",
              "      <td>0.80</td>\n",
              "    </tr>\n",
              "    <tr>\n",
              "      <th>4</th>\n",
              "      <td>5</td>\n",
              "      <td>314</td>\n",
              "      <td>103</td>\n",
              "      <td>2</td>\n",
              "      <td>2.0</td>\n",
              "      <td>3.0</td>\n",
              "      <td>8.21</td>\n",
              "      <td>0</td>\n",
              "      <td>0.65</td>\n",
              "    </tr>\n",
              "  </tbody>\n",
              "</table>\n",
              "</div>\n",
              "    <div class=\"colab-df-buttons\">\n",
              "\n",
              "  <div class=\"colab-df-container\">\n",
              "    <button class=\"colab-df-convert\" onclick=\"convertToInteractive('df-4230d10f-5601-434c-8d04-bb83b71e2482')\"\n",
              "            title=\"Convert this dataframe to an interactive table.\"\n",
              "            style=\"display:none;\">\n",
              "\n",
              "  <svg xmlns=\"http://www.w3.org/2000/svg\" height=\"24px\" viewBox=\"0 -960 960 960\">\n",
              "    <path d=\"M120-120v-720h720v720H120Zm60-500h600v-160H180v160Zm220 220h160v-160H400v160Zm0 220h160v-160H400v160ZM180-400h160v-160H180v160Zm440 0h160v-160H620v160ZM180-180h160v-160H180v160Zm440 0h160v-160H620v160Z\"/>\n",
              "  </svg>\n",
              "    </button>\n",
              "\n",
              "  <style>\n",
              "    .colab-df-container {\n",
              "      display:flex;\n",
              "      gap: 12px;\n",
              "    }\n",
              "\n",
              "    .colab-df-convert {\n",
              "      background-color: #E8F0FE;\n",
              "      border: none;\n",
              "      border-radius: 50%;\n",
              "      cursor: pointer;\n",
              "      display: none;\n",
              "      fill: #1967D2;\n",
              "      height: 32px;\n",
              "      padding: 0 0 0 0;\n",
              "      width: 32px;\n",
              "    }\n",
              "\n",
              "    .colab-df-convert:hover {\n",
              "      background-color: #E2EBFA;\n",
              "      box-shadow: 0px 1px 2px rgba(60, 64, 67, 0.3), 0px 1px 3px 1px rgba(60, 64, 67, 0.15);\n",
              "      fill: #174EA6;\n",
              "    }\n",
              "\n",
              "    .colab-df-buttons div {\n",
              "      margin-bottom: 4px;\n",
              "    }\n",
              "\n",
              "    [theme=dark] .colab-df-convert {\n",
              "      background-color: #3B4455;\n",
              "      fill: #D2E3FC;\n",
              "    }\n",
              "\n",
              "    [theme=dark] .colab-df-convert:hover {\n",
              "      background-color: #434B5C;\n",
              "      box-shadow: 0px 1px 3px 1px rgba(0, 0, 0, 0.15);\n",
              "      filter: drop-shadow(0px 1px 2px rgba(0, 0, 0, 0.3));\n",
              "      fill: #FFFFFF;\n",
              "    }\n",
              "  </style>\n",
              "\n",
              "    <script>\n",
              "      const buttonEl =\n",
              "        document.querySelector('#df-4230d10f-5601-434c-8d04-bb83b71e2482 button.colab-df-convert');\n",
              "      buttonEl.style.display =\n",
              "        google.colab.kernel.accessAllowed ? 'block' : 'none';\n",
              "\n",
              "      async function convertToInteractive(key) {\n",
              "        const element = document.querySelector('#df-4230d10f-5601-434c-8d04-bb83b71e2482');\n",
              "        const dataTable =\n",
              "          await google.colab.kernel.invokeFunction('convertToInteractive',\n",
              "                                                    [key], {});\n",
              "        if (!dataTable) return;\n",
              "\n",
              "        const docLinkHtml = 'Like what you see? Visit the ' +\n",
              "          '<a target=\"_blank\" href=https://colab.research.google.com/notebooks/data_table.ipynb>data table notebook</a>'\n",
              "          + ' to learn more about interactive tables.';\n",
              "        element.innerHTML = '';\n",
              "        dataTable['output_type'] = 'display_data';\n",
              "        await google.colab.output.renderOutput(dataTable, element);\n",
              "        const docLink = document.createElement('div');\n",
              "        docLink.innerHTML = docLinkHtml;\n",
              "        element.appendChild(docLink);\n",
              "      }\n",
              "    </script>\n",
              "  </div>\n",
              "\n",
              "\n",
              "<div id=\"df-c9fcb23b-13b4-418c-88d0-c6129fb95baa\">\n",
              "  <button class=\"colab-df-quickchart\" onclick=\"quickchart('df-c9fcb23b-13b4-418c-88d0-c6129fb95baa')\"\n",
              "            title=\"Suggest charts\"\n",
              "            style=\"display:none;\">\n",
              "\n",
              "<svg xmlns=\"http://www.w3.org/2000/svg\" height=\"24px\"viewBox=\"0 0 24 24\"\n",
              "     width=\"24px\">\n",
              "    <g>\n",
              "        <path d=\"M19 3H5c-1.1 0-2 .9-2 2v14c0 1.1.9 2 2 2h14c1.1 0 2-.9 2-2V5c0-1.1-.9-2-2-2zM9 17H7v-7h2v7zm4 0h-2V7h2v10zm4 0h-2v-4h2v4z\"/>\n",
              "    </g>\n",
              "</svg>\n",
              "  </button>\n",
              "\n",
              "<style>\n",
              "  .colab-df-quickchart {\n",
              "      --bg-color: #E8F0FE;\n",
              "      --fill-color: #1967D2;\n",
              "      --hover-bg-color: #E2EBFA;\n",
              "      --hover-fill-color: #174EA6;\n",
              "      --disabled-fill-color: #AAA;\n",
              "      --disabled-bg-color: #DDD;\n",
              "  }\n",
              "\n",
              "  [theme=dark] .colab-df-quickchart {\n",
              "      --bg-color: #3B4455;\n",
              "      --fill-color: #D2E3FC;\n",
              "      --hover-bg-color: #434B5C;\n",
              "      --hover-fill-color: #FFFFFF;\n",
              "      --disabled-bg-color: #3B4455;\n",
              "      --disabled-fill-color: #666;\n",
              "  }\n",
              "\n",
              "  .colab-df-quickchart {\n",
              "    background-color: var(--bg-color);\n",
              "    border: none;\n",
              "    border-radius: 50%;\n",
              "    cursor: pointer;\n",
              "    display: none;\n",
              "    fill: var(--fill-color);\n",
              "    height: 32px;\n",
              "    padding: 0;\n",
              "    width: 32px;\n",
              "  }\n",
              "\n",
              "  .colab-df-quickchart:hover {\n",
              "    background-color: var(--hover-bg-color);\n",
              "    box-shadow: 0 1px 2px rgba(60, 64, 67, 0.3), 0 1px 3px 1px rgba(60, 64, 67, 0.15);\n",
              "    fill: var(--button-hover-fill-color);\n",
              "  }\n",
              "\n",
              "  .colab-df-quickchart-complete:disabled,\n",
              "  .colab-df-quickchart-complete:disabled:hover {\n",
              "    background-color: var(--disabled-bg-color);\n",
              "    fill: var(--disabled-fill-color);\n",
              "    box-shadow: none;\n",
              "  }\n",
              "\n",
              "  .colab-df-spinner {\n",
              "    border: 2px solid var(--fill-color);\n",
              "    border-color: transparent;\n",
              "    border-bottom-color: var(--fill-color);\n",
              "    animation:\n",
              "      spin 1s steps(1) infinite;\n",
              "  }\n",
              "\n",
              "  @keyframes spin {\n",
              "    0% {\n",
              "      border-color: transparent;\n",
              "      border-bottom-color: var(--fill-color);\n",
              "      border-left-color: var(--fill-color);\n",
              "    }\n",
              "    20% {\n",
              "      border-color: transparent;\n",
              "      border-left-color: var(--fill-color);\n",
              "      border-top-color: var(--fill-color);\n",
              "    }\n",
              "    30% {\n",
              "      border-color: transparent;\n",
              "      border-left-color: var(--fill-color);\n",
              "      border-top-color: var(--fill-color);\n",
              "      border-right-color: var(--fill-color);\n",
              "    }\n",
              "    40% {\n",
              "      border-color: transparent;\n",
              "      border-right-color: var(--fill-color);\n",
              "      border-top-color: var(--fill-color);\n",
              "    }\n",
              "    60% {\n",
              "      border-color: transparent;\n",
              "      border-right-color: var(--fill-color);\n",
              "    }\n",
              "    80% {\n",
              "      border-color: transparent;\n",
              "      border-right-color: var(--fill-color);\n",
              "      border-bottom-color: var(--fill-color);\n",
              "    }\n",
              "    90% {\n",
              "      border-color: transparent;\n",
              "      border-bottom-color: var(--fill-color);\n",
              "    }\n",
              "  }\n",
              "</style>\n",
              "\n",
              "  <script>\n",
              "    async function quickchart(key) {\n",
              "      const quickchartButtonEl =\n",
              "        document.querySelector('#' + key + ' button');\n",
              "      quickchartButtonEl.disabled = true;  // To prevent multiple clicks.\n",
              "      quickchartButtonEl.classList.add('colab-df-spinner');\n",
              "      try {\n",
              "        const charts = await google.colab.kernel.invokeFunction(\n",
              "            'suggestCharts', [key], {});\n",
              "      } catch (error) {\n",
              "        console.error('Error during call to suggestCharts:', error);\n",
              "      }\n",
              "      quickchartButtonEl.classList.remove('colab-df-spinner');\n",
              "      quickchartButtonEl.classList.add('colab-df-quickchart-complete');\n",
              "    }\n",
              "    (() => {\n",
              "      let quickchartButtonEl =\n",
              "        document.querySelector('#df-c9fcb23b-13b4-418c-88d0-c6129fb95baa button');\n",
              "      quickchartButtonEl.style.display =\n",
              "        google.colab.kernel.accessAllowed ? 'block' : 'none';\n",
              "    })();\n",
              "  </script>\n",
              "</div>\n",
              "    </div>\n",
              "  </div>\n"
            ],
            "application/vnd.google.colaboratory.intrinsic+json": {
              "type": "dataframe",
              "variable_name": "data",
              "summary": "{\n  \"name\": \"data\",\n  \"rows\": 400,\n  \"fields\": [\n    {\n      \"column\": \"Serial No.\",\n      \"properties\": {\n        \"dtype\": \"number\",\n        \"std\": 115,\n        \"min\": 1,\n        \"max\": 400,\n        \"num_unique_values\": 400,\n        \"samples\": [\n          210,\n          281,\n          34\n        ],\n        \"semantic_type\": \"\",\n        \"description\": \"\"\n      }\n    },\n    {\n      \"column\": \"GRE Score\",\n      \"properties\": {\n        \"dtype\": \"number\",\n        \"std\": 11,\n        \"min\": 290,\n        \"max\": 340,\n        \"num_unique_values\": 49,\n        \"samples\": [\n          307,\n          335,\n          297\n        ],\n        \"semantic_type\": \"\",\n        \"description\": \"\"\n      }\n    },\n    {\n      \"column\": \"TOEFL Score\",\n      \"properties\": {\n        \"dtype\": \"number\",\n        \"std\": 6,\n        \"min\": 92,\n        \"max\": 120,\n        \"num_unique_values\": 29,\n        \"samples\": [\n          94,\n          119,\n          112\n        ],\n        \"semantic_type\": \"\",\n        \"description\": \"\"\n      }\n    },\n    {\n      \"column\": \"University Rating\",\n      \"properties\": {\n        \"dtype\": \"number\",\n        \"std\": 1,\n        \"min\": 1,\n        \"max\": 5,\n        \"num_unique_values\": 5,\n        \"samples\": [\n          3,\n          1,\n          2\n        ],\n        \"semantic_type\": \"\",\n        \"description\": \"\"\n      }\n    },\n    {\n      \"column\": \"SOP\",\n      \"properties\": {\n        \"dtype\": \"number\",\n        \"std\": 1.006868641458697,\n        \"min\": 1.0,\n        \"max\": 5.0,\n        \"num_unique_values\": 9,\n        \"samples\": [\n          1.0,\n          4.0,\n          5.0\n        ],\n        \"semantic_type\": \"\",\n        \"description\": \"\"\n      }\n    },\n    {\n      \"column\": \"LOR \",\n      \"properties\": {\n        \"dtype\": \"number\",\n        \"std\": 0.8984775482792571,\n        \"min\": 1.0,\n        \"max\": 5.0,\n        \"num_unique_values\": 9,\n        \"samples\": [\n          5.0,\n          3.5,\n          1.5\n        ],\n        \"semantic_type\": \"\",\n        \"description\": \"\"\n      }\n    },\n    {\n      \"column\": \"CGPA\",\n      \"properties\": {\n        \"dtype\": \"number\",\n        \"std\": 0.5963170964964318,\n        \"min\": 6.8,\n        \"max\": 9.92,\n        \"num_unique_values\": 168,\n        \"samples\": [\n          8.15,\n          7.4,\n          9.91\n        ],\n        \"semantic_type\": \"\",\n        \"description\": \"\"\n      }\n    },\n    {\n      \"column\": \"Research\",\n      \"properties\": {\n        \"dtype\": \"number\",\n        \"std\": 0,\n        \"min\": 0,\n        \"max\": 1,\n        \"num_unique_values\": 2,\n        \"samples\": [\n          0,\n          1\n        ],\n        \"semantic_type\": \"\",\n        \"description\": \"\"\n      }\n    },\n    {\n      \"column\": \"Chance of Admit \",\n      \"properties\": {\n        \"dtype\": \"number\",\n        \"std\": 0.14260933017384092,\n        \"min\": 0.34,\n        \"max\": 0.97,\n        \"num_unique_values\": 60,\n        \"samples\": [\n          0.92,\n          0.9\n        ],\n        \"semantic_type\": \"\",\n        \"description\": \"\"\n      }\n    }\n  ]\n}"
            }
          },
          "metadata": {},
          "execution_count": 5
        }
      ],
      "source": [
        "data.head()"
      ],
      "id": "iR5siHrXIRjg"
    },
    {
      "cell_type": "markdown",
      "metadata": {
        "id": "A6P1W5xDInTJ"
      },
      "source": [
        "## 2. Понимаем, какая перед нами задача"
      ],
      "id": "A6P1W5xDInTJ"
    },
    {
      "cell_type": "markdown",
      "source": [
        "Задача регрессии.\n",
        "Потому что целевая переменная варьируется в промежутке [0; 1]"
      ],
      "metadata": {
        "id": "6gRSoBT53RxU"
      },
      "id": "6gRSoBT53RxU"
    },
    {
      "cell_type": "code",
      "execution_count": 6,
      "metadata": {
        "id": "E5gFaxrrInTa"
      },
      "outputs": [],
      "source": [
        "Y = data['Chance of Admit ']\n",
        "X = data.iloc[:, 1:8]"
      ],
      "id": "E5gFaxrrInTa"
    },
    {
      "cell_type": "code",
      "source": [
        "Y.hist(bins=30)"
      ],
      "metadata": {
        "colab": {
          "base_uri": "https://localhost:8080/",
          "height": 447
        },
        "id": "qFuUzBVtfI4P",
        "outputId": "945b818e-88b6-4ea9-af90-e444340ecd72"
      },
      "execution_count": 7,
      "outputs": [
        {
          "output_type": "execute_result",
          "data": {
            "text/plain": [
              "<Axes: >"
            ]
          },
          "metadata": {},
          "execution_count": 7
        },
        {
          "output_type": "display_data",
          "data": {
            "text/plain": [
              "<Figure size 640x480 with 1 Axes>"
            ],
            "image/png": "[encoded data removed]"
          },
          "metadata": {}
        }
      ],
      "id": "qFuUzBVtfI4P"
    },
    {
      "cell_type": "markdown",
      "metadata": {
        "id": "76vcVPRVInTb"
      },
      "source": [
        "## 3. Делаем предобработку данных"
      ],
      "id": "76vcVPRVInTb"
    },
    {
      "cell_type": "markdown",
      "source": [
        "Деление выборки на тренировочную и тестовую:"
      ],
      "metadata": {
        "id": "Sl6WXXpjefoX"
      },
      "id": "Sl6WXXpjefoX"
    },
    {
      "cell_type": "code",
      "execution_count": 8,
      "metadata": {
        "id": "5wAfeWDNInTc"
      },
      "outputs": [],
      "source": [
        "from sklearn.model_selection import train_test_split\n",
        "\n",
        "X_train, X_test, Y_train, Y_test = train_test_split(X, Y, test_size=0.2, random_state=42)"
      ],
      "id": "5wAfeWDNInTc"
    },
    {
      "cell_type": "markdown",
      "source": [
        "Проверка на пропуски:"
      ],
      "metadata": {
        "id": "q-WG2guqeoAS"
      },
      "id": "q-WG2guqeoAS"
    },
    {
      "cell_type": "code",
      "source": [
        "pd.isna(data).sum()"
      ],
      "metadata": {
        "colab": {
          "base_uri": "https://localhost:8080/"
        },
        "id": "JL8OneALi9NF",
        "outputId": "9ba0e0bd-f758-4379-d2f1-784f4a1f7513"
      },
      "execution_count": 9,
      "outputs": [
        {
          "output_type": "execute_result",
          "data": {
            "text/plain": [
              "Serial No.           0\n",
              "GRE Score            0\n",
              "TOEFL Score          0\n",
              "University Rating    0\n",
              "SOP                  0\n",
              "LOR                  0\n",
              "CGPA                 0\n",
              "Research             0\n",
              "Chance of Admit      0\n",
              "dtype: int64"
            ]
          },
          "metadata": {},
          "execution_count": 9
        }
      ],
      "id": "JL8OneALi9NF"
    },
    {
      "cell_type": "markdown",
      "source": [
        "Пропусков нет, значит датасет качественный"
      ],
      "metadata": {
        "id": "X2hEWkKnjLZa"
      },
      "id": "X2hEWkKnjLZa"
    },
    {
      "cell_type": "markdown",
      "source": [
        "Нормировка численных переменных:"
      ],
      "metadata": {
        "id": "yLVySqbJjRqv"
      },
      "id": "yLVySqbJjRqv"
    },
    {
      "cell_type": "code",
      "source": [
        "from sklearn.preprocessing import StandardScaler\n",
        "\n",
        "scaler = StandardScaler()\n",
        "X_train = pd.DataFrame(scaler.fit_transform(X_train), columns=X_train.columns)\n",
        "X_test = pd.DataFrame(scaler.transform(X_test), columns=X_test.columns)\n",
        "\n",
        "X_test"
      ],
      "metadata": {
        "colab": {
          "base_uri": "https://localhost:8080/",
          "height": 424
        },
        "id": "4o_FF7vSjop6",
        "outputId": "8cf4c3f2-1498-45b8-df7c-d88354a400cd"
      },
      "execution_count": 10,
      "outputs": [
        {
          "output_type": "execute_result",
          "data": {
            "text/plain": [
              "    GRE Score  TOEFL Score  University Rating       SOP      LOR       CGPA  \\\n",
              "0   -1.405707    -0.572099          -0.057308  0.127156  0.613483 -0.796122   \n",
              "1   -0.518651    -0.904353          -0.057308  1.107637  0.613483  0.088813   \n",
              "2    2.053813     1.089169           1.689221  0.617396  0.613483  1.722538   \n",
              "3    0.723228     0.092408           0.815957  1.107637  0.613483  0.803567   \n",
              "4   -1.405707    -1.734987          -0.930573 -0.363084 -0.501940 -1.204553   \n",
              "..        ...          ...                ...       ...       ...       ...   \n",
              "75  -0.075123    -0.405973          -0.057308 -0.363084  0.055771  0.241974   \n",
              "76  -0.429945     0.424662          -0.930573  0.127156 -0.501940 -0.098385   \n",
              "77  -1.405707    -1.568860          -1.803837 -1.343565 -0.501940 -0.949284   \n",
              "78   1.078051     1.919803           0.815957  1.107637  1.171194  0.973747   \n",
              "79  -0.341240     0.258535          -0.057308  0.617396  0.055771  0.701460   \n",
              "\n",
              "    Research  \n",
              "0   0.927613  \n",
              "1   0.927613  \n",
              "2   0.927613  \n",
              "3   0.927613  \n",
              "4   0.927613  \n",
              "..       ...  \n",
              "75 -1.078036  \n",
              "76 -1.078036  \n",
              "77  0.927613  \n",
              "78  0.927613  \n",
              "79 -1.078036  \n",
              "\n",
              "[80 rows x 7 columns]"
            ],
            "text/html": [
              "\n",
              "  <div id=\"df-58fad676-ecaa-41dd-b532-ece47cf87712\" class=\"colab-df-container\">\n",
              "    <div>\n",
              "<style scoped>\n",
              "    .dataframe tbody tr th:only-of-type {\n",
              "        vertical-align: middle;\n",
              "    }\n",
              "\n",
              "    .dataframe tbody tr th {\n",
              "        vertical-align: top;\n",
              "    }\n",
              "\n",
              "    .dataframe thead th {\n",
              "        text-align: right;\n",
              "    }\n",
              "</style>\n",
              "<table border=\"1\" class=\"dataframe\">\n",
              "  <thead>\n",
              "    <tr style=\"text-align: right;\">\n",
              "      <th></th>\n",
              "      <th>GRE Score</th>\n",
              "      <th>TOEFL Score</th>\n",
              "      <th>University Rating</th>\n",
              "      <th>SOP</th>\n",
              "      <th>LOR</th>\n",
              "      <th>CGPA</th>\n",
              "      <th>Research</th>\n",
              "    </tr>\n",
              "  </thead>\n",
              "  <tbody>\n",
              "    <tr>\n",
              "      <th>0</th>\n",
              "      <td>-1.405707</td>\n",
              "      <td>-0.572099</td>\n",
              "      <td>-0.057308</td>\n",
              "      <td>0.127156</td>\n",
              "      <td>0.613483</td>\n",
              "      <td>-0.796122</td>\n",
              "      <td>0.927613</td>\n",
              "    </tr>\n",
              "    <tr>\n",
              "      <th>1</th>\n",
              "      <td>-0.518651</td>\n",
              "      <td>-0.904353</td>\n",
              "      <td>-0.057308</td>\n",
              "      <td>1.107637</td>\n",
              "      <td>0.613483</td>\n",
              "      <td>0.088813</td>\n",
              "      <td>0.927613</td>\n",
              "    </tr>\n",
              "    <tr>\n",
              "      <th>2</th>\n",
              "      <td>2.053813</td>\n",
              "      <td>1.089169</td>\n",
              "      <td>1.689221</td>\n",
              "      <td>0.617396</td>\n",
              "      <td>0.613483</td>\n",
              "      <td>1.722538</td>\n",
              "      <td>0.927613</td>\n",
              "    </tr>\n",
              "    <tr>\n",
              "      <th>3</th>\n",
              "      <td>0.723228</td>\n",
              "      <td>0.092408</td>\n",
              "      <td>0.815957</td>\n",
              "      <td>1.107637</td>\n",
              "      <td>0.613483</td>\n",
              "      <td>0.803567</td>\n",
              "      <td>0.927613</td>\n",
              "    </tr>\n",
              "    <tr>\n",
              "      <th>4</th>\n",
              "      <td>-1.405707</td>\n",
              "      <td>-1.734987</td>\n",
              "      <td>-0.930573</td>\n",
              "      <td>-0.363084</td>\n",
              "      <td>-0.501940</td>\n",
              "      <td>-1.204553</td>\n",
              "      <td>0.927613</td>\n",
              "    </tr>\n",
              "    <tr>\n",
              "      <th>...</th>\n",
              "      <td>...</td>\n",
              "      <td>...</td>\n",
              "      <td>...</td>\n",
              "      <td>...</td>\n",
              "      <td>...</td>\n",
              "      <td>...</td>\n",
              "      <td>...</td>\n",
              "    </tr>\n",
              "    <tr>\n",
              "      <th>75</th>\n",
              "      <td>-0.075123</td>\n",
              "      <td>-0.405973</td>\n",
              "      <td>-0.057308</td>\n",
              "      <td>-0.363084</td>\n",
              "      <td>0.055771</td>\n",
              "      <td>0.241974</td>\n",
              "      <td>-1.078036</td>\n",
              "    </tr>\n",
              "    <tr>\n",
              "      <th>76</th>\n",
              "      <td>-0.429945</td>\n",
              "      <td>0.424662</td>\n",
              "      <td>-0.930573</td>\n",
              "      <td>0.127156</td>\n",
              "      <td>-0.501940</td>\n",
              "      <td>-0.098385</td>\n",
              "      <td>-1.078036</td>\n",
              "    </tr>\n",
              "    <tr>\n",
              "      <th>77</th>\n",
              "      <td>-1.405707</td>\n",
              "      <td>-1.568860</td>\n",
              "      <td>-1.803837</td>\n",
              "      <td>-1.343565</td>\n",
              "      <td>-0.501940</td>\n",
              "      <td>-0.949284</td>\n",
              "      <td>0.927613</td>\n",
              "    </tr>\n",
              "    <tr>\n",
              "      <th>78</th>\n",
              "      <td>1.078051</td>\n",
              "      <td>1.919803</td>\n",
              "      <td>0.815957</td>\n",
              "      <td>1.107637</td>\n",
              "      <td>1.171194</td>\n",
              "      <td>0.973747</td>\n",
              "      <td>0.927613</td>\n",
              "    </tr>\n",
              "    <tr>\n",
              "      <th>79</th>\n",
              "      <td>-0.341240</td>\n",
              "      <td>0.258535</td>\n",
              "      <td>-0.057308</td>\n",
              "      <td>0.617396</td>\n",
              "      <td>0.055771</td>\n",
              "      <td>0.701460</td>\n",
              "      <td>-1.078036</td>\n",
              "    </tr>\n",
              "  </tbody>\n",
              "</table>\n",
              "<p>80 rows × 7 columns</p>\n",
              "</div>\n",
              "    <div class=\"colab-df-buttons\">\n",
              "\n",
              "  <div class=\"colab-df-container\">\n",
              "    <button class=\"colab-df-convert\" onclick=\"convertToInteractive('df-58fad676-ecaa-41dd-b532-ece47cf87712')\"\n",
              "            title=\"Convert this dataframe to an interactive table.\"\n",
              "            style=\"display:none;\">\n",
              "\n",
              "  <svg xmlns=\"http://www.w3.org/2000/svg\" height=\"24px\" viewBox=\"0 -960 960 960\">\n",
              "    <path d=\"M120-120v-720h720v720H120Zm60-500h600v-160H180v160Zm220 220h160v-160H400v160Zm0 220h160v-160H400v160ZM180-400h160v-160H180v160Zm440 0h160v-160H620v160ZM180-180h160v-160H180v160Zm440 0h160v-160H620v160Z\"/>\n",
              "  </svg>\n",
              "    </button>\n",
              "\n",
              "  <style>\n",
              "    .colab-df-container {\n",
              "      display:flex;\n",
              "      gap: 12px;\n",
              "    }\n",
              "\n",
              "    .colab-df-convert {\n",
              "      background-color: #E8F0FE;\n",
              "      border: none;\n",
              "      border-radius: 50%;\n",
              "      cursor: pointer;\n",
              "      display: none;\n",
              "      fill: #1967D2;\n",
              "      height: 32px;\n",
              "      padding: 0 0 0 0;\n",
              "      width: 32px;\n",
              "    }\n",
              "\n",
              "    .colab-df-convert:hover {\n",
              "      background-color: #E2EBFA;\n",
              "      box-shadow: 0px 1px 2px rgba(60, 64, 67, 0.3), 0px 1px 3px 1px rgba(60, 64, 67, 0.15);\n",
              "      fill: #174EA6;\n",
              "    }\n",
              "\n",
              "    .colab-df-buttons div {\n",
              "      margin-bottom: 4px;\n",
              "    }\n",
              "\n",
              "    [theme=dark] .colab-df-convert {\n",
              "      background-color: #3B4455;\n",
              "      fill: #D2E3FC;\n",
              "    }\n",
              "\n",
              "    [theme=dark] .colab-df-convert:hover {\n",
              "      background-color: #434B5C;\n",
              "      box-shadow: 0px 1px 3px 1px rgba(0, 0, 0, 0.15);\n",
              "      filter: drop-shadow(0px 1px 2px rgba(0, 0, 0, 0.3));\n",
              "      fill: #FFFFFF;\n",
              "    }\n",
              "  </style>\n",
              "\n",
              "    <script>\n",
              "      const buttonEl =\n",
              "        document.querySelector('#df-58fad676-ecaa-41dd-b532-ece47cf87712 button.colab-df-convert');\n",
              "      buttonEl.style.display =\n",
              "        google.colab.kernel.accessAllowed ? 'block' : 'none';\n",
              "\n",
              "      async function convertToInteractive(key) {\n",
              "        const element = document.querySelector('#df-58fad676-ecaa-41dd-b532-ece47cf87712');\n",
              "        const dataTable =\n",
              "          await google.colab.kernel.invokeFunction('convertToInteractive',\n",
              "                                                    [key], {});\n",
              "        if (!dataTable) return;\n",
              "\n",
              "        const docLinkHtml = 'Like what you see? Visit the ' +\n",
              "          '<a target=\"_blank\" href=https://colab.research.google.com/notebooks/data_table.ipynb>data table notebook</a>'\n",
              "          + ' to learn more about interactive tables.';\n",
              "        element.innerHTML = '';\n",
              "        dataTable['output_type'] = 'display_data';\n",
              "        await google.colab.output.renderOutput(dataTable, element);\n",
              "        const docLink = document.createElement('div');\n",
              "        docLink.innerHTML = docLinkHtml;\n",
              "        element.appendChild(docLink);\n",
              "      }\n",
              "    </script>\n",
              "  </div>\n",
              "\n",
              "\n",
              "<div id=\"df-d8a0d785-433c-4019-9acf-c2d6a84da1ae\">\n",
              "  <button class=\"colab-df-quickchart\" onclick=\"quickchart('df-d8a0d785-433c-4019-9acf-c2d6a84da1ae')\"\n",
              "            title=\"Suggest charts\"\n",
              "            style=\"display:none;\">\n",
              "\n",
              "<svg xmlns=\"http://www.w3.org/2000/svg\" height=\"24px\"viewBox=\"0 0 24 24\"\n",
              "     width=\"24px\">\n",
              "    <g>\n",
              "        <path d=\"M19 3H5c-1.1 0-2 .9-2 2v14c0 1.1.9 2 2 2h14c1.1 0 2-.9 2-2V5c0-1.1-.9-2-2-2zM9 17H7v-7h2v7zm4 0h-2V7h2v10zm4 0h-2v-4h2v4z\"/>\n",
              "    </g>\n",
              "</svg>\n",
              "  </button>\n",
              "\n",
              "<style>\n",
              "  .colab-df-quickchart {\n",
              "      --bg-color: #E8F0FE;\n",
              "      --fill-color: #1967D2;\n",
              "      --hover-bg-color: #E2EBFA;\n",
              "      --hover-fill-color: #174EA6;\n",
              "      --disabled-fill-color: #AAA;\n",
              "      --disabled-bg-color: #DDD;\n",
              "  }\n",
              "\n",
              "  [theme=dark] .colab-df-quickchart {\n",
              "      --bg-color: #3B4455;\n",
              "      --fill-color: #D2E3FC;\n",
              "      --hover-bg-color: #434B5C;\n",
              "      --hover-fill-color: #FFFFFF;\n",
              "      --disabled-bg-color: #3B4455;\n",
              "      --disabled-fill-color: #666;\n",
              "  }\n",
              "\n",
              "  .colab-df-quickchart {\n",
              "    background-color: var(--bg-color);\n",
              "    border: none;\n",
              "    border-radius: 50%;\n",
              "    cursor: pointer;\n",
              "    display: none;\n",
              "    fill: var(--fill-color);\n",
              "    height: 32px;\n",
              "    padding: 0;\n",
              "    width: 32px;\n",
              "  }\n",
              "\n",
              "  .colab-df-quickchart:hover {\n",
              "    background-color: var(--hover-bg-color);\n",
              "    box-shadow: 0 1px 2px rgba(60, 64, 67, 0.3), 0 1px 3px 1px rgba(60, 64, 67, 0.15);\n",
              "    fill: var(--button-hover-fill-color);\n",
              "  }\n",
              "\n",
              "  .colab-df-quickchart-complete:disabled,\n",
              "  .colab-df-quickchart-complete:disabled:hover {\n",
              "    background-color: var(--disabled-bg-color);\n",
              "    fill: var(--disabled-fill-color);\n",
              "    box-shadow: none;\n",
              "  }\n",
              "\n",
              "  .colab-df-spinner {\n",
              "    border: 2px solid var(--fill-color);\n",
              "    border-color: transparent;\n",
              "    border-bottom-color: var(--fill-color);\n",
              "    animation:\n",
              "      spin 1s steps(1) infinite;\n",
              "  }\n",
              "\n",
              "  @keyframes spin {\n",
              "    0% {\n",
              "      border-color: transparent;\n",
              "      border-bottom-color: var(--fill-color);\n",
              "      border-left-color: var(--fill-color);\n",
              "    }\n",
              "    20% {\n",
              "      border-color: transparent;\n",
              "      border-left-color: var(--fill-color);\n",
              "      border-top-color: var(--fill-color);\n",
              "    }\n",
              "    30% {\n",
              "      border-color: transparent;\n",
              "      border-left-color: var(--fill-color);\n",
              "      border-top-color: var(--fill-color);\n",
              "      border-right-color: var(--fill-color);\n",
              "    }\n",
              "    40% {\n",
              "      border-color: transparent;\n",
              "      border-right-color: var(--fill-color);\n",
              "      border-top-color: var(--fill-color);\n",
              "    }\n",
              "    60% {\n",
              "      border-color: transparent;\n",
              "      border-right-color: var(--fill-color);\n",
              "    }\n",
              "    80% {\n",
              "      border-color: transparent;\n",
              "      border-right-color: var(--fill-color);\n",
              "      border-bottom-color: var(--fill-color);\n",
              "    }\n",
              "    90% {\n",
              "      border-color: transparent;\n",
              "      border-bottom-color: var(--fill-color);\n",
              "    }\n",
              "  }\n",
              "</style>\n",
              "\n",
              "  <script>\n",
              "    async function quickchart(key) {\n",
              "      const quickchartButtonEl =\n",
              "        document.querySelector('#' + key + ' button');\n",
              "      quickchartButtonEl.disabled = true;  // To prevent multiple clicks.\n",
              "      quickchartButtonEl.classList.add('colab-df-spinner');\n",
              "      try {\n",
              "        const charts = await google.colab.kernel.invokeFunction(\n",
              "            'suggestCharts', [key], {});\n",
              "      } catch (error) {\n",
              "        console.error('Error during call to suggestCharts:', error);\n",
              "      }\n",
              "      quickchartButtonEl.classList.remove('colab-df-spinner');\n",
              "      quickchartButtonEl.classList.add('colab-df-quickchart-complete');\n",
              "    }\n",
              "    (() => {\n",
              "      let quickchartButtonEl =\n",
              "        document.querySelector('#df-d8a0d785-433c-4019-9acf-c2d6a84da1ae button');\n",
              "      quickchartButtonEl.style.display =\n",
              "        google.colab.kernel.accessAllowed ? 'block' : 'none';\n",
              "    })();\n",
              "  </script>\n",
              "</div>\n",
              "    </div>\n",
              "  </div>\n"
            ],
            "application/vnd.google.colaboratory.intrinsic+json": {
              "type": "dataframe",
              "variable_name": "X_test",
              "summary": "{\n  \"name\": \"X_test\",\n  \"rows\": 80,\n  \"fields\": [\n    {\n      \"column\": \"GRE Score\",\n      \"properties\": {\n        \"dtype\": \"number\",\n        \"std\": 1.0867020363934334,\n        \"min\": -1.849235536014232,\n        \"max\": 2.0538129345419622,\n        \"num_unique_values\": 39,\n        \"samples\": [\n          -0.1638282419104208,\n          -1.4944129477818506,\n          -1.7605298889561367\n        ],\n        \"semantic_type\": \"\",\n        \"description\": \"\"\n      }\n    },\n    {\n      \"column\": \"TOEFL Score\",\n      \"properties\": {\n        \"dtype\": \"number\",\n        \"std\": 1.040983144991257,\n        \"min\": -2.0672410680274815,\n        \"max\": 2.0859303393607305,\n        \"num_unique_values\": 26,\n        \"samples\": [\n          -0.4059725050721968,\n          1.7536766267696733,\n          -0.5720993613677252\n        ],\n        \"semantic_type\": \"\",\n        \"description\": \"\"\n      }\n    },\n    {\n      \"column\": \"University Rating\",\n      \"properties\": {\n        \"dtype\": \"number\",\n        \"std\": 0.9900846956046737,\n        \"min\": -1.8038374962180583,\n        \"max\": 1.6892214979712228,\n        \"num_unique_values\": 5,\n        \"samples\": [\n          1.6892214979712228,\n          -1.8038374962180583,\n          0.8159567494239025\n        ],\n        \"semantic_type\": \"\",\n        \"description\": \"\"\n      }\n    },\n    {\n      \"column\": \"SOP\",\n      \"properties\": {\n        \"dtype\": \"number\",\n        \"std\": 0.9244036493311384,\n        \"min\": -1.8338050427898664,\n        \"max\": 1.597876908629767,\n        \"num_unique_values\": 8,\n        \"samples\": [\n          1.1076366298555338,\n          -1.3435647640156332,\n          0.12715607230706696\n        ],\n        \"semantic_type\": \"\",\n        \"description\": \"\"\n      }\n    },\n    {\n      \"column\": \"LOR \",\n      \"properties\": {\n        \"dtype\": \"number\",\n        \"std\": 1.0108960098647135,\n        \"min\": -2.175074407479326,\n        \"max\": 1.728905298252797,\n        \"num_unique_values\": 8,\n        \"samples\": [\n          -0.5019402478798446,\n          0.055771138653315844,\n          0.6134825251864763\n        ],\n        \"semantic_type\": \"\",\n        \"description\": \"\"\n      }\n    },\n    {\n      \"column\": \"CGPA\",\n      \"properties\": {\n        \"dtype\": \"number\",\n        \"std\": 1.0693332398208193,\n        \"min\": -2.0214162644556324,\n        \"max\": 2.0969335255849937,\n        \"num_unique_values\": 66,\n        \"samples\": [\n          -0.455762625266634,\n          0.24197432263281116,\n          -0.7961221120468529\n        ],\n        \"semantic_type\": \"\",\n        \"description\": \"\"\n      }\n    },\n    {\n      \"column\": \"Research\",\n      \"properties\": {\n        \"dtype\": \"number\",\n        \"std\": 0.9935786639863264,\n        \"min\": -1.0780362527123855,\n        \"max\": 0.9276125895432155,\n        \"num_unique_values\": 2,\n        \"samples\": [\n          -1.0780362527123855,\n          0.9276125895432155\n        ],\n        \"semantic_type\": \"\",\n        \"description\": \"\"\n      }\n    }\n  ]\n}"
            }
          },
          "metadata": {},
          "execution_count": 10
        }
      ],
      "id": "4o_FF7vSjop6"
    },
    {
      "cell_type": "markdown",
      "source": [
        "##4. DataSet и DataLoader"
      ],
      "metadata": {
        "id": "t9lW7UgCQB9r"
      },
      "id": "t9lW7UgCQB9r"
    },
    {
      "cell_type": "code",
      "source": [
        "import torch\n",
        "from torch.utils.data import Dataset, DataLoader\n",
        "\n",
        "class CustomDataset(Dataset):\n",
        "    def __init__(self, features, targets, transform=None):\n",
        "        self.features = features\n",
        "        self.targets = targets\n",
        "        self.transform = transform\n",
        "\n",
        "    def __len__(self):\n",
        "        return len(self.features)\n",
        "\n",
        "    def __getitem__(self, idx):\n",
        "        X = self.features.iloc[idx].values.astype(np.float32)\n",
        "        y = self.targets.iloc[idx].astype(np.float32)\n",
        "        if self.transform:\n",
        "            X = self.transform(X)\n",
        "        return X, y\n",
        "\n",
        "# Создание экземпляров датасетов\n",
        "train_dataset = CustomDataset(X_train, Y_train)\n",
        "test_dataset = CustomDataset(X_test, Y_test)\n",
        "\n",
        "# Создание DataLoader'ов\n",
        "train_loader = DataLoader(train_dataset, batch_size=32, shuffle=True)\n",
        "test_loader = DataLoader(test_dataset, batch_size=32, shuffle=False)\n",
        "\n",
        "# Проверка одного элемента из датасета\n",
        "X_sample, y_sample = train_dataset[0]\n",
        "print(X_sample)\n",
        "print(y_sample)"
      ],
      "metadata": {
        "colab": {
          "base_uri": "https://localhost:8080/"
        },
        "id": "DL5B-BlVQI5t",
        "outputId": "f2637dc7-853d-4aa9-b7a7-7f3e856a70c9"
      },
      "id": "DL5B-BlVQI5t",
      "execution_count": 28,
      "outputs": [
        {
          "output_type": "stream",
          "name": "stdout",
          "text": [
            "[ 0.4571113   0.4246618  -0.057308    0.12715608 -1.0596516   0.13986647\n",
            "  0.9276126 ]\n",
            "0.8\n"
          ]
        }
      ]
    },
    {
      "cell_type": "markdown",
      "source": [
        "##5. Обучение на тренировочном множестве"
      ],
      "metadata": {
        "id": "89QOcMHFRD6e"
      },
      "id": "89QOcMHFRD6e"
    },
    {
      "cell_type": "code",
      "source": [
        "import torch.nn as nn\n",
        "\n",
        "device = \"cuda\" if torch.cuda.is_available() else \"cpu\"\n",
        "print(f\"Using {device} device\")"
      ],
      "metadata": {
        "colab": {
          "base_uri": "https://localhost:8080/"
        },
        "id": "zHDQpaAXUObe",
        "outputId": "6bcec536-9b86-4f9b-a443-f3087a6571d7"
      },
      "id": "zHDQpaAXUObe",
      "execution_count": 29,
      "outputs": [
        {
          "output_type": "stream",
          "name": "stdout",
          "text": [
            "Using cpu device\n"
          ]
        }
      ]
    },
    {
      "cell_type": "markdown",
      "source": [
        "1. Однослойная нейросеть с оптимизатором SGD"
      ],
      "metadata": {
        "id": "HnUjve2CROxi"
      },
      "id": "HnUjve2CROxi"
    },
    {
      "cell_type": "code",
      "source": [
        "class SimpleNN(nn.Module):\n",
        "    def __init__(self, input_size):\n",
        "        super(SimpleNN, self).__init__()\n",
        "        self.linear_relu_stack = nn.Sequential(\n",
        "            nn.Linear(input_size, 1)\n",
        "        )\n",
        "\n",
        "    def forward(self, x):рас\n",
        "        logits = self.linear_relu_stack(x)\n",
        "        return logits\n",
        "\n",
        "input_size = X_train.shape[1]\n",
        "model_simple = SimpleNN(input_size).to(device)\n",
        "\n",
        "print(model_simple)\n"
      ],
      "metadata": {
        "colab": {
          "base_uri": "https://localhost:8080/"
        },
        "id": "PNpJRDgsRpLt",
        "outputId": "17480c17-0f25-49c6-e83b-eebd882f3c8d"
      },
      "id": "PNpJRDgsRpLt",
      "execution_count": 30,
      "outputs": [
        {
          "output_type": "stream",
          "name": "stdout",
          "text": [
            "SimpleNN(\n",
            "  (linear_relu_stack): Sequential(\n",
            "    (0): Linear(in_features=7, out_features=1, bias=True)\n",
            "  )\n",
            ")\n"
          ]
        }
      ]
    },
    {
      "cell_type": "markdown",
      "source": [
        "2. Нейросеть (с 1 скрытым слоем) с оптимизатором Adam"
      ],
      "metadata": {
        "id": "cQeECkOGRaJ0"
      },
      "id": "cQeECkOGRaJ0"
    },
    {
      "cell_type": "code",
      "source": [
        "class OneHiddenLayerNN(nn.Module):\n",
        "    def __init__(self, input_size):\n",
        "        super(OneHiddenLayerNN, self).__init__()\n",
        "        self.linear_relu_stack = nn.Sequential(\n",
        "            nn.Linear(input_size, 64),\n",
        "            nn.ReLU(),\n",
        "            nn.Linear(64, 1)\n",
        "        )\n",
        "\n",
        "    def forward(self, x):\n",
        "        logits = self.linear_relu_stack(x)\n",
        "        return logits\n",
        "\n",
        "input_size = X_train.shape[1]\n",
        "model_one_hidden = OneHiddenLayerNN(input_size).to(device)\n",
        "\n",
        "print(model_one_hidden)"
      ],
      "metadata": {
        "colab": {
          "base_uri": "https://localhost:8080/"
        },
        "id": "4GWirZN_Rpgc",
        "outputId": "3ec48429-a363-4d94-eaf9-004ce81b96f6"
      },
      "id": "4GWirZN_Rpgc",
      "execution_count": 31,
      "outputs": [
        {
          "output_type": "stream",
          "name": "stdout",
          "text": [
            "OneHiddenLayerNN(\n",
            "  (linear_relu_stack): Sequential(\n",
            "    (0): Linear(in_features=7, out_features=64, bias=True)\n",
            "    (1): ReLU()\n",
            "    (2): Linear(in_features=64, out_features=1, bias=True)\n",
            "  )\n",
            ")\n"
          ]
        }
      ]
    },
    {
      "cell_type": "markdown",
      "source": [
        "3. Нейросеть (с 3+ скрытым слоем) с оптимизатором Adam"
      ],
      "metadata": {
        "id": "cS_n5_KxRiTw"
      },
      "id": "cS_n5_KxRiTw"
    },
    {
      "cell_type": "code",
      "source": [
        "class ThreeHiddenLayerNN(nn.Module):\n",
        "    def __init__(self, input_size):\n",
        "        super(ThreeHiddenLayerNN, self).__init__()\n",
        "        self.linear_relu_stack = nn.Sequential(\n",
        "            nn.Linear(input_size, 128),\n",
        "            nn.ReLU(),\n",
        "            nn.Linear(128, 64),\n",
        "            nn.ReLU(),\n",
        "            nn.Linear(64, 32),\n",
        "            nn.ReLU(),\n",
        "            nn.Linear(32, 1)\n",
        "        )\n",
        "\n",
        "    def forward(self, x):\n",
        "        logits = self.linear_relu_stack(x)\n",
        "        return logits\n",
        "\n",
        "input_size = X_train.shape[1]\n",
        "model_three_hidden = ThreeHiddenLayerNN(input_size).to(device)\n",
        "\n",
        "print(model_three_hidden)"
      ],
      "metadata": {
        "colab": {
          "base_uri": "https://localhost:8080/"
        },
        "id": "4yj2zJVhRqOu",
        "outputId": "e8b93145-da58-4531-c9d1-05535878b89d"
      },
      "id": "4yj2zJVhRqOu",
      "execution_count": 32,
      "outputs": [
        {
          "output_type": "stream",
          "name": "stdout",
          "text": [
            "ThreeHiddenLayerNN(\n",
            "  (linear_relu_stack): Sequential(\n",
            "    (0): Linear(in_features=7, out_features=128, bias=True)\n",
            "    (1): ReLU()\n",
            "    (2): Linear(in_features=128, out_features=64, bias=True)\n",
            "    (3): ReLU()\n",
            "    (4): Linear(in_features=64, out_features=32, bias=True)\n",
            "    (5): ReLU()\n",
            "    (6): Linear(in_features=32, out_features=1, bias=True)\n",
            "  )\n",
            ")\n"
          ]
        }
      ]
    },
    {
      "cell_type": "markdown",
      "source": [
        "##6. Подсчет loss и построение кривой обучения"
      ],
      "metadata": {
        "id": "plBn36YxZGwZ"
      },
      "id": "plBn36YxZGwZ"
    },
    {
      "cell_type": "markdown",
      "source": [
        "Тренировка:"
      ],
      "metadata": {
        "id": "629YkRDEbVw9"
      },
      "id": "629YkRDEbVw9"
    },
    {
      "cell_type": "code",
      "source": [
        "from sklearn.metrics import mean_absolute_error\n",
        "\n",
        "train_losses = []\n",
        "test_losses = []\n",
        "\n",
        "def train_loop(dataloader, model, loss_fn, optimizer):\n",
        "    size = len(dataloader.dataset)\n",
        "\n",
        "    epoch_loss = 0\n",
        "    all_preds = []\n",
        "    all_targets = []\n",
        "\n",
        "    for batch, (X, y) in enumerate(dataloader):\n",
        "        X, y = X.to(device), y.to(device)\n",
        "        y = y.unsqueeze(1)  # Изменяем размерность меток\n",
        "\n",
        "        pred = model(X)\n",
        "        loss = loss_fn(pred, y)\n",
        "\n",
        "        all_preds.extend(pred.detach().cpu().numpy())\n",
        "        all_targets.extend(y.detach().cpu().numpy())\n",
        "\n",
        "        optimizer.zero_grad()\n",
        "        loss.backward()\n",
        "        optimizer.step()\n",
        "\n",
        "        epoch_loss += loss.item()\n",
        "\n",
        "        if batch % 100 == 0:\n",
        "            loss, current = loss.item(), batch * len(X)\n",
        "            print(f\"loss: {loss:>7f}  [{current:>5d}/{size:>5d}]\")\n",
        "\n",
        "    train_losses.append(epoch_loss / len(dataloader))\n",
        "\n",
        "\n",
        "def test_loop(dataloader, model, loss_fn):\n",
        "    size = len(dataloader.dataset)\n",
        "    num_batches = len(dataloader)\n",
        "    test_loss = 0\n",
        "\n",
        "    all_preds = []\n",
        "    all_targets = []\n",
        "\n",
        "    with torch.no_grad():\n",
        "        for X, y in dataloader:\n",
        "            X, y = X.to(device), y.to(device)\n",
        "            y = y.unsqueeze(1)  # Изменяем размерность меток\n",
        "\n",
        "            pred = model(X)\n",
        "            test_loss += loss_fn(pred, y).item()\n",
        "\n",
        "            all_preds.extend(pred.detach().cpu().numpy())\n",
        "            all_targets.extend(y.detach().cpu().numpy())\n",
        "\n",
        "    test_loss /= num_batches\n",
        "    test_losses.append(test_loss)\n",
        "    mae = mean_absolute_error(all_targets, all_preds)\n",
        "    print(f\"Avg loss: {test_loss:>8f} \\n\")\n",
        "    return mae\n"
      ],
      "metadata": {
        "id": "5g_QybitdSge"
      },
      "id": "5g_QybitdSge",
      "execution_count": 74,
      "outputs": []
    },
    {
      "cell_type": "code",
      "source": [],
      "metadata": {
        "id": "SDMw_wf9u_rf"
      },
      "id": "SDMw_wf9u_rf",
      "execution_count": null,
      "outputs": []
    },
    {
      "cell_type": "code",
      "source": [
        "learning_rate = 1e-3\n",
        "batch_size = 64\n",
        "epochs = 10\n",
        "\n",
        "loss_fn = nn.MSELoss()"
      ],
      "metadata": {
        "id": "SHPI6UhNbXMy"
      },
      "execution_count": 58,
      "outputs": [],
      "id": "SHPI6UhNbXMy"
    },
    {
      "cell_type": "markdown",
      "source": [
        "1 модель:"
      ],
      "metadata": {
        "id": "N5KCNkfhdWHp"
      },
      "id": "N5KCNkfhdWHp"
    },
    {
      "cell_type": "code",
      "source": [
        "optimizer_simple = torch.optim.SGD(model_simple.parameters(), lr=learning_rate)\n"
      ],
      "metadata": {
        "id": "bKrw18BFczlG"
      },
      "id": "bKrw18BFczlG",
      "execution_count": 59,
      "outputs": []
    },
    {
      "cell_type": "code",
      "source": [
        "epochs = 10\n",
        "for t in range(epochs):\n",
        "    print(f\"Epoch {t+1}\\n-------------------------------\")\n",
        "    train_loop(train_loader, model_simple, loss_fn, optimizer_simple)\n",
        "    test_loop(test_loader, model_simple, loss_fn)\n",
        "print(\"Done!\")\n"
      ],
      "metadata": {
        "colab": {
          "base_uri": "https://localhost:8080/"
        },
        "id": "2IOUEs8lddhV",
        "outputId": "0d98623a-ddc4-4e95-d11c-0122f31dfb9a"
      },
      "id": "2IOUEs8lddhV",
      "execution_count": 60,
      "outputs": [
        {
          "output_type": "stream",
          "name": "stdout",
          "text": [
            "Epoch 1\n",
            "-------------------------------\n",
            "loss: 0.121595  [    0/  320]\n",
            "Avg loss: 0.100086 \n",
            "\n",
            "Epoch 2\n",
            "-------------------------------\n",
            "loss: 0.159113  [    0/  320]\n",
            "Avg loss: 0.096613 \n",
            "\n",
            "Epoch 3\n",
            "-------------------------------\n",
            "loss: 0.128272  [    0/  320]\n",
            "Avg loss: 0.093341 \n",
            "\n",
            "Epoch 4\n",
            "-------------------------------\n",
            "loss: 0.093501  [    0/  320]\n",
            "Avg loss: 0.090236 \n",
            "\n",
            "Epoch 5\n",
            "-------------------------------\n",
            "loss: 0.089807  [    0/  320]\n",
            "Avg loss: 0.087291 \n",
            "\n",
            "Epoch 6\n",
            "-------------------------------\n",
            "loss: 0.118021  [    0/  320]\n",
            "Avg loss: 0.084492 \n",
            "\n",
            "Epoch 7\n",
            "-------------------------------\n",
            "loss: 0.121526  [    0/  320]\n",
            "Avg loss: 0.081826 \n",
            "\n",
            "Epoch 8\n",
            "-------------------------------\n",
            "loss: 0.094139  [    0/  320]\n",
            "Avg loss: 0.079286 \n",
            "\n",
            "Epoch 9\n",
            "-------------------------------\n",
            "loss: 0.114391  [    0/  320]\n",
            "Avg loss: 0.076864 \n",
            "\n",
            "Epoch 10\n",
            "-------------------------------\n",
            "loss: 0.100799  [    0/  320]\n",
            "Avg loss: 0.074546 \n",
            "\n",
            "Done!\n"
          ]
        }
      ]
    },
    {
      "cell_type": "code",
      "source": [
        "# Визуализация кривой обучения\n",
        "plt.plot(train_losses, label='Train Loss')\n",
        "plt.plot(test_losses, label='Test Loss')\n",
        "plt.xlabel('Epoch')\n",
        "plt.ylabel('Loss')\n",
        "plt.legend()\n",
        "plt.title('Simple')\n",
        "plt.show()"
      ],
      "metadata": {
        "colab": {
          "base_uri": "https://localhost:8080/",
          "height": 472
        },
        "id": "N0J7Fqri3ycq",
        "outputId": "248fab7a-d6f6-4fee-8aaa-cb2ad46a5c88"
      },
      "id": "N0J7Fqri3ycq",
      "execution_count": 61,
      "outputs": [
        {
          "output_type": "display_data",
          "data": {
            "text/plain": [
              "<Figure size 640x480 with 1 Axes>"
            ],
            "image/png": "[encoded data removed]"
          },
          "metadata": {}
        }
      ]
    },
    {
      "cell_type": "markdown",
      "source": [
        "2 модель:"
      ],
      "metadata": {
        "id": "7IX4IfaEfNc6"
      },
      "id": "7IX4IfaEfNc6"
    },
    {
      "cell_type": "code",
      "source": [
        "optimizer_one_hidden = torch.optim.Adam(model_one_hidden.parameters(), lr=learning_rate)\n"
      ],
      "metadata": {
        "id": "IlzMoTsufNdH"
      },
      "execution_count": 75,
      "outputs": [],
      "id": "IlzMoTsufNdH"
    },
    {
      "cell_type": "code",
      "source": [
        "epochs = 10\n",
        "for t in range(epochs):\n",
        "    print(f\"Epoch {t+1}\\n-------------------------------\")\n",
        "    train_loop(train_loader, model_one_hidden, loss_fn, optimizer_one_hidden)\n",
        "    test_loop(test_loader, model_one_hidden, loss_fn)\n",
        "print(\"Done!\")\n"
      ],
      "metadata": {
        "colab": {
          "base_uri": "https://localhost:8080/"
        },
        "outputId": "4ea284d0-54ae-44cb-8122-fe9c1d6d5839",
        "id": "od0bm6xNfNdI"
      },
      "execution_count": 76,
      "outputs": [
        {
          "output_type": "stream",
          "name": "stdout",
          "text": [
            "Epoch 1\n",
            "-------------------------------\n",
            "loss: 0.003871  [    0/  320]\n",
            "Avg loss: 0.005549 \n",
            "\n",
            "Epoch 2\n",
            "-------------------------------\n",
            "loss: 0.003418  [    0/  320]\n",
            "Avg loss: 0.005436 \n",
            "\n",
            "Epoch 3\n",
            "-------------------------------\n",
            "loss: 0.005633  [    0/  320]\n",
            "Avg loss: 0.005202 \n",
            "\n",
            "Epoch 4\n",
            "-------------------------------\n",
            "loss: 0.003607  [    0/  320]\n",
            "Avg loss: 0.005203 \n",
            "\n",
            "Epoch 5\n",
            "-------------------------------\n",
            "loss: 0.002905  [    0/  320]\n",
            "Avg loss: 0.005355 \n",
            "\n",
            "Epoch 6\n",
            "-------------------------------\n",
            "loss: 0.003383  [    0/  320]\n",
            "Avg loss: 0.005462 \n",
            "\n",
            "Epoch 7\n",
            "-------------------------------\n",
            "loss: 0.002840  [    0/  320]\n",
            "Avg loss: 0.005242 \n",
            "\n",
            "Epoch 8\n",
            "-------------------------------\n",
            "loss: 0.004340  [    0/  320]\n",
            "Avg loss: 0.005483 \n",
            "\n",
            "Epoch 9\n",
            "-------------------------------\n",
            "loss: 0.002294  [    0/  320]\n",
            "Avg loss: 0.005200 \n",
            "\n",
            "Epoch 10\n",
            "-------------------------------\n",
            "loss: 0.004807  [    0/  320]\n",
            "Avg loss: 0.005658 \n",
            "\n",
            "Done!\n"
          ]
        }
      ],
      "id": "od0bm6xNfNdI"
    },
    {
      "cell_type": "code",
      "source": [
        "# Визуализация кривой обучения\n",
        "plt.plot(train_losses, label='Train Loss')\n",
        "plt.plot(test_losses, label='Test Loss')\n",
        "plt.xlabel('Epoch')\n",
        "plt.ylabel('Loss')\n",
        "plt.legend()\n",
        "plt.title('One hidden')\n",
        "plt.show()"
      ],
      "metadata": {
        "colab": {
          "base_uri": "https://localhost:8080/",
          "height": 472
        },
        "id": "uhN-YMX25rzm",
        "outputId": "c96b8210-a685-45c4-d149-acf9a2cf2be1"
      },
      "id": "uhN-YMX25rzm",
      "execution_count": 77,
      "outputs": [
        {
          "output_type": "display_data",
          "data": {
            "text/plain": [
              "<Figure size 640x480 with 1 Axes>"
            ],
            "image/png": "[encoded data removed]"
          },
          "metadata": {}
        }
      ]
    },
    {
      "cell_type": "markdown",
      "source": [
        "3 модель:"
      ],
      "metadata": {
        "id": "b-4gQEoTfuS_"
      },
      "id": "b-4gQEoTfuS_"
    },
    {
      "cell_type": "code",
      "source": [
        "optimizer_three_hidden = torch.optim.Adam(model_three_hidden.parameters(), lr=learning_rate)\n"
      ],
      "metadata": {
        "id": "IwUpRcNTfuTA"
      },
      "execution_count": 78,
      "outputs": [],
      "id": "IwUpRcNTfuTA"
    },
    {
      "cell_type": "code",
      "source": [
        "epochs = 10\n",
        "for t in range(epochs):\n",
        "    print(f\"Epoch {t+1}\\n-------------------------------\")\n",
        "    train_loop(train_loader, model_three_hidden, loss_fn, optimizer_three_hidden)\n",
        "    test_loop(test_loader, model_three_hidden, loss_fn)\n",
        "print(\"Done!\")\n"
      ],
      "metadata": {
        "colab": {
          "base_uri": "https://localhost:8080/"
        },
        "outputId": "09a95582-b44d-4ad4-b8eb-bfe263aae10a",
        "id": "pJ8WMBEHfuTB"
      },
      "execution_count": 79,
      "outputs": [
        {
          "output_type": "stream",
          "name": "stdout",
          "text": [
            "Epoch 1\n",
            "-------------------------------\n",
            "loss: 0.001560  [    0/  320]\n",
            "Avg loss: 0.004250 \n",
            "\n",
            "Epoch 2\n",
            "-------------------------------\n",
            "loss: 0.004145  [    0/  320]\n",
            "Avg loss: 0.005688 \n",
            "\n",
            "Epoch 3\n",
            "-------------------------------\n",
            "loss: 0.002294  [    0/  320]\n",
            "Avg loss: 0.004303 \n",
            "\n",
            "Epoch 4\n",
            "-------------------------------\n",
            "loss: 0.002080  [    0/  320]\n",
            "Avg loss: 0.003980 \n",
            "\n",
            "Epoch 5\n",
            "-------------------------------\n",
            "loss: 0.001673  [    0/  320]\n",
            "Avg loss: 0.004653 \n",
            "\n",
            "Epoch 6\n",
            "-------------------------------\n",
            "loss: 0.000632  [    0/  320]\n",
            "Avg loss: 0.003854 \n",
            "\n",
            "Epoch 7\n",
            "-------------------------------\n",
            "loss: 0.001267  [    0/  320]\n",
            "Avg loss: 0.003973 \n",
            "\n",
            "Epoch 8\n",
            "-------------------------------\n",
            "loss: 0.002516  [    0/  320]\n",
            "Avg loss: 0.004777 \n",
            "\n",
            "Epoch 9\n",
            "-------------------------------\n",
            "loss: 0.001731  [    0/  320]\n",
            "Avg loss: 0.005083 \n",
            "\n",
            "Epoch 10\n",
            "-------------------------------\n",
            "loss: 0.002627  [    0/  320]\n",
            "Avg loss: 0.004358 \n",
            "\n",
            "Done!\n"
          ]
        }
      ],
      "id": "pJ8WMBEHfuTB"
    },
    {
      "cell_type": "code",
      "source": [
        "# Визуализация кривой обучения\n",
        "plt.plot(train_losses, label='Train Loss')\n",
        "plt.plot(test_losses, label='Test Loss')\n",
        "plt.xlabel('Epoch')\n",
        "plt.ylabel('Loss')\n",
        "plt.legend()\n",
        "plt.title('Three hidden')\n",
        "plt.show()"
      ],
      "metadata": {
        "colab": {
          "base_uri": "https://localhost:8080/",
          "height": 472
        },
        "id": "27EJZANj54Ct",
        "outputId": "3dde1236-cce5-4ef6-fdc4-bc46366014c1"
      },
      "id": "27EJZANj54Ct",
      "execution_count": 80,
      "outputs": [
        {
          "output_type": "display_data",
          "data": {
            "text/plain": [
              "<Figure size 640x480 with 1 Axes>"
            ],
            "image/png": "[encoded data removed]"
          },
          "metadata": {}
        }
      ]
    },
    {
      "cell_type": "markdown",
      "source": [
        "##7. Подсчет метрики MAE"
      ],
      "metadata": {
        "id": "pN2gc2pEZT5F"
      },
      "id": "pN2gc2pEZT5F"
    },
    {
      "cell_type": "code",
      "source": [
        "mae_simple = test_loop(test_loader, model_simple, loss_fn)\n",
        "mae_one_hidden = test_loop(test_loader, model_one_hidden, loss_fn)\n",
        "mae_three_hidden = test_loop(test_loader, model_three_hidden, loss_fn)\n",
        "\n",
        "print(f\"Simple NN - MAE: {mae_simple}\")\n",
        "print(f\"One Hidden Layer NN - MAE: {mae_one_hidden}\")\n",
        "print(f\"Three Hidden Layer NN - MAE: {mae_three_hidden}\")"
      ],
      "metadata": {
        "colab": {
          "base_uri": "https://localhost:8080/"
        },
        "id": "EGnPNxFlZbCW",
        "outputId": "b932534b-dc53-40c4-85bf-467e89cc9818"
      },
      "id": "EGnPNxFlZbCW",
      "execution_count": 81,
      "outputs": [
        {
          "output_type": "stream",
          "name": "stdout",
          "text": [
            "Avg loss: 0.074546 \n",
            "\n",
            "Avg loss: 0.005658 \n",
            "\n",
            "Avg loss: 0.004358 \n",
            "\n",
            "Simple NN - MAE: 0.2271748036146164\n",
            "One Hidden Layer NN - MAE: 0.055991075932979584\n",
            "Three Hidden Layer NN - MAE: 0.049467526376247406\n"
          ]
        }
      ]
    },
    {
      "cell_type": "markdown",
      "source": [
        "##8. Сравнение"
      ],
      "metadata": {
        "id": "c831LWBEZfT_"
      },
      "id": "c831LWBEZfT_"
    },
    {
      "cell_type": "markdown",
      "source": [
        "1. Какая модель справилась лучше с поставленной задачей?"
      ],
      "metadata": {
        "id": "PInhMJoH1SF_"
      },
      "id": "PInhMJoH1SF_"
    },
    {
      "cell_type": "markdown",
      "source": [
        "Можно увидеть, что One Hidden Layer модель и Three Hidden Layer имеют близкое друг к другу и наименьшее значение MAE. Поэтому они показали лучшие результаты по сравнению с Simple моделью и могут быть использованы для наших данных.   \n",
        "Наилучшей можно назвать Three Hidden Layer модель."
      ],
      "metadata": {
        "id": "qFqHGvSr1jOq"
      },
      "id": "qFqHGvSr1jOq"
    },
    {
      "cell_type": "markdown",
      "source": [
        "2. Имеет ли место переобучение?"
      ],
      "metadata": {
        "id": "48L98YrL2Dsj"
      },
      "id": "48L98YrL2Dsj"
    },
    {
      "cell_type": "markdown",
      "source": [
        " Разница между тренировочными и тестовыми метриками маленькая, это указывает на отсутствие переобучения."
      ],
      "metadata": {
        "id": "77R175Sb2hiS"
      },
      "id": "77R175Sb2hiS"
    },
    {
      "cell_type": "markdown",
      "source": [
        "3. Имеет ли место недообучение?"
      ],
      "metadata": {
        "id": "hR_t2IMp2qmR"
      },
      "id": "hR_t2IMp2qmR"
    },
    {
      "cell_type": "markdown",
      "source": [
        "Можно увидеть, что модель хорошо работает как на тренировочных, так и на тестовых данных. Поэтому недообучения не наблюдается."
      ],
      "metadata": {
        "id": "ul-v7EAt26aZ"
      },
      "id": "ul-v7EAt26aZ"
    },
    {
      "cell_type": "markdown",
      "source": [
        "4. Как можно улучшить метрики моделей?"
      ],
      "metadata": {
        "id": "K7aJqznN3G1R"
      },
      "id": "K7aJqznN3G1R"
    },
    {
      "cell_type": "markdown",
      "source": [
        "Можно попробовать отрегулировать количество тренировочных данных (например, увеличение данных)   \n",
        "Можно оптимизировать гиперпараметры некоторых моделей     \n",
        "Можно попробовать более сложные модели"
      ],
      "metadata": {
        "id": "sloxGTdr3Pk8"
      },
      "id": "sloxGTdr3Pk8"
    }
  ],
  "metadata": {
    "kernelspec": {
      "display_name": "nn-ml-bachelor-2024-venv",
      "language": "python",
      "name": "nn-ml-bachelor-2024-venv"
    },
    "language_info": {
      "codemirror_mode": {
        "name": "ipython",
        "version": 3
      },
      "file_extension": ".py",
      "mimetype": "text/x-python",
      "name": "python",
      "nbconvert_exporter": "python",
      "pygments_lexer": "ipython3",
      "version": "3.9.6"
    },
    "colab": {
      "provenance": [],
      "include_colab_link": true
    }
  },
  "nbformat": 4,
  "nbformat_minor": 5
}
